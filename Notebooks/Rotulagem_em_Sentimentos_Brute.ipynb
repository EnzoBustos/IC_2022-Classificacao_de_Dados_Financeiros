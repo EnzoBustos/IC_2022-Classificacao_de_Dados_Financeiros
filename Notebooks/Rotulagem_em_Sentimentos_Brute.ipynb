{
  "nbformat": 4,
  "nbformat_minor": 0,
  "metadata": {
    "colab": {
      "name": "Rotulagem em Sentimentos",
      "provenance": [],
      "collapsed_sections": []
    },
    "kernelspec": {
      "name": "python3",
      "display_name": "Python 3"
    },
    "language_info": {
      "name": "python"
    },
    "accelerator": "GPU",
    "widgets": {
      "application/vnd.jupyter.widget-state+json": {
        "3ea42f4c0a5b45eead0eb0bf2047cd81": {
          "model_module": "@jupyter-widgets/controls",
          "model_name": "HBoxModel",
          "model_module_version": "1.5.0",
          "state": {
            "_dom_classes": [],
            "_model_module": "@jupyter-widgets/controls",
            "_model_module_version": "1.5.0",
            "_model_name": "HBoxModel",
            "_view_count": null,
            "_view_module": "@jupyter-widgets/controls",
            "_view_module_version": "1.5.0",
            "_view_name": "HBoxView",
            "box_style": "",
            "children": [
              "IPY_MODEL_60019e25c77e4eb8a83f570126882eea",
              "IPY_MODEL_25c30df40acf4c829651f26f6a0dfaf7",
              "IPY_MODEL_8588cf84ae7d409587fa0c84176524aa"
            ],
            "layout": "IPY_MODEL_55c35795b41c448582df3e8ab37533cf"
          }
        },
        "60019e25c77e4eb8a83f570126882eea": {
          "model_module": "@jupyter-widgets/controls",
          "model_name": "HTMLModel",
          "model_module_version": "1.5.0",
          "state": {
            "_dom_classes": [],
            "_model_module": "@jupyter-widgets/controls",
            "_model_module_version": "1.5.0",
            "_model_name": "HTMLModel",
            "_view_count": null,
            "_view_module": "@jupyter-widgets/controls",
            "_view_module_version": "1.5.0",
            "_view_name": "HTMLView",
            "description": "",
            "description_tooltip": null,
            "layout": "IPY_MODEL_50ff7de6b39449cc8cdd3465c972e31d",
            "placeholder": "​",
            "style": "IPY_MODEL_058266a182394d4ba8b13108ace8be5e",
            "value": "Batches: 100%"
          }
        },
        "25c30df40acf4c829651f26f6a0dfaf7": {
          "model_module": "@jupyter-widgets/controls",
          "model_name": "FloatProgressModel",
          "model_module_version": "1.5.0",
          "state": {
            "_dom_classes": [],
            "_model_module": "@jupyter-widgets/controls",
            "_model_module_version": "1.5.0",
            "_model_name": "FloatProgressModel",
            "_view_count": null,
            "_view_module": "@jupyter-widgets/controls",
            "_view_module_version": "1.5.0",
            "_view_name": "ProgressView",
            "bar_style": "success",
            "description": "",
            "description_tooltip": null,
            "layout": "IPY_MODEL_5717f8419dca45f082c3b3c888897f7d",
            "max": 9227,
            "min": 0,
            "orientation": "horizontal",
            "style": "IPY_MODEL_4063f77d96344dfba86111eaf79cb04d",
            "value": 9227
          }
        },
        "8588cf84ae7d409587fa0c84176524aa": {
          "model_module": "@jupyter-widgets/controls",
          "model_name": "HTMLModel",
          "model_module_version": "1.5.0",
          "state": {
            "_dom_classes": [],
            "_model_module": "@jupyter-widgets/controls",
            "_model_module_version": "1.5.0",
            "_model_name": "HTMLModel",
            "_view_count": null,
            "_view_module": "@jupyter-widgets/controls",
            "_view_module_version": "1.5.0",
            "_view_name": "HTMLView",
            "description": "",
            "description_tooltip": null,
            "layout": "IPY_MODEL_4633f4e701bd42b091fd546ce572efa1",
            "placeholder": "​",
            "style": "IPY_MODEL_3b1d89892d0d48a48b43685ca75f5c3e",
            "value": " 9227/9227 [09:26&lt;00:00, 77.98it/s]"
          }
        },
        "55c35795b41c448582df3e8ab37533cf": {
          "model_module": "@jupyter-widgets/base",
          "model_name": "LayoutModel",
          "model_module_version": "1.2.0",
          "state": {
            "_model_module": "@jupyter-widgets/base",
            "_model_module_version": "1.2.0",
            "_model_name": "LayoutModel",
            "_view_count": null,
            "_view_module": "@jupyter-widgets/base",
            "_view_module_version": "1.2.0",
            "_view_name": "LayoutView",
            "align_content": null,
            "align_items": null,
            "align_self": null,
            "border": null,
            "bottom": null,
            "display": null,
            "flex": null,
            "flex_flow": null,
            "grid_area": null,
            "grid_auto_columns": null,
            "grid_auto_flow": null,
            "grid_auto_rows": null,
            "grid_column": null,
            "grid_gap": null,
            "grid_row": null,
            "grid_template_areas": null,
            "grid_template_columns": null,
            "grid_template_rows": null,
            "height": null,
            "justify_content": null,
            "justify_items": null,
            "left": null,
            "margin": null,
            "max_height": null,
            "max_width": null,
            "min_height": null,
            "min_width": null,
            "object_fit": null,
            "object_position": null,
            "order": null,
            "overflow": null,
            "overflow_x": null,
            "overflow_y": null,
            "padding": null,
            "right": null,
            "top": null,
            "visibility": null,
            "width": null
          }
        },
        "50ff7de6b39449cc8cdd3465c972e31d": {
          "model_module": "@jupyter-widgets/base",
          "model_name": "LayoutModel",
          "model_module_version": "1.2.0",
          "state": {
            "_model_module": "@jupyter-widgets/base",
            "_model_module_version": "1.2.0",
            "_model_name": "LayoutModel",
            "_view_count": null,
            "_view_module": "@jupyter-widgets/base",
            "_view_module_version": "1.2.0",
            "_view_name": "LayoutView",
            "align_content": null,
            "align_items": null,
            "align_self": null,
            "border": null,
            "bottom": null,
            "display": null,
            "flex": null,
            "flex_flow": null,
            "grid_area": null,
            "grid_auto_columns": null,
            "grid_auto_flow": null,
            "grid_auto_rows": null,
            "grid_column": null,
            "grid_gap": null,
            "grid_row": null,
            "grid_template_areas": null,
            "grid_template_columns": null,
            "grid_template_rows": null,
            "height": null,
            "justify_content": null,
            "justify_items": null,
            "left": null,
            "margin": null,
            "max_height": null,
            "max_width": null,
            "min_height": null,
            "min_width": null,
            "object_fit": null,
            "object_position": null,
            "order": null,
            "overflow": null,
            "overflow_x": null,
            "overflow_y": null,
            "padding": null,
            "right": null,
            "top": null,
            "visibility": null,
            "width": null
          }
        },
        "058266a182394d4ba8b13108ace8be5e": {
          "model_module": "@jupyter-widgets/controls",
          "model_name": "DescriptionStyleModel",
          "model_module_version": "1.5.0",
          "state": {
            "_model_module": "@jupyter-widgets/controls",
            "_model_module_version": "1.5.0",
            "_model_name": "DescriptionStyleModel",
            "_view_count": null,
            "_view_module": "@jupyter-widgets/base",
            "_view_module_version": "1.2.0",
            "_view_name": "StyleView",
            "description_width": ""
          }
        },
        "5717f8419dca45f082c3b3c888897f7d": {
          "model_module": "@jupyter-widgets/base",
          "model_name": "LayoutModel",
          "model_module_version": "1.2.0",
          "state": {
            "_model_module": "@jupyter-widgets/base",
            "_model_module_version": "1.2.0",
            "_model_name": "LayoutModel",
            "_view_count": null,
            "_view_module": "@jupyter-widgets/base",
            "_view_module_version": "1.2.0",
            "_view_name": "LayoutView",
            "align_content": null,
            "align_items": null,
            "align_self": null,
            "border": null,
            "bottom": null,
            "display": null,
            "flex": null,
            "flex_flow": null,
            "grid_area": null,
            "grid_auto_columns": null,
            "grid_auto_flow": null,
            "grid_auto_rows": null,
            "grid_column": null,
            "grid_gap": null,
            "grid_row": null,
            "grid_template_areas": null,
            "grid_template_columns": null,
            "grid_template_rows": null,
            "height": null,
            "justify_content": null,
            "justify_items": null,
            "left": null,
            "margin": null,
            "max_height": null,
            "max_width": null,
            "min_height": null,
            "min_width": null,
            "object_fit": null,
            "object_position": null,
            "order": null,
            "overflow": null,
            "overflow_x": null,
            "overflow_y": null,
            "padding": null,
            "right": null,
            "top": null,
            "visibility": null,
            "width": null
          }
        },
        "4063f77d96344dfba86111eaf79cb04d": {
          "model_module": "@jupyter-widgets/controls",
          "model_name": "ProgressStyleModel",
          "model_module_version": "1.5.0",
          "state": {
            "_model_module": "@jupyter-widgets/controls",
            "_model_module_version": "1.5.0",
            "_model_name": "ProgressStyleModel",
            "_view_count": null,
            "_view_module": "@jupyter-widgets/base",
            "_view_module_version": "1.2.0",
            "_view_name": "StyleView",
            "bar_color": null,
            "description_width": ""
          }
        },
        "4633f4e701bd42b091fd546ce572efa1": {
          "model_module": "@jupyter-widgets/base",
          "model_name": "LayoutModel",
          "model_module_version": "1.2.0",
          "state": {
            "_model_module": "@jupyter-widgets/base",
            "_model_module_version": "1.2.0",
            "_model_name": "LayoutModel",
            "_view_count": null,
            "_view_module": "@jupyter-widgets/base",
            "_view_module_version": "1.2.0",
            "_view_name": "LayoutView",
            "align_content": null,
            "align_items": null,
            "align_self": null,
            "border": null,
            "bottom": null,
            "display": null,
            "flex": null,
            "flex_flow": null,
            "grid_area": null,
            "grid_auto_columns": null,
            "grid_auto_flow": null,
            "grid_auto_rows": null,
            "grid_column": null,
            "grid_gap": null,
            "grid_row": null,
            "grid_template_areas": null,
            "grid_template_columns": null,
            "grid_template_rows": null,
            "height": null,
            "justify_content": null,
            "justify_items": null,
            "left": null,
            "margin": null,
            "max_height": null,
            "max_width": null,
            "min_height": null,
            "min_width": null,
            "object_fit": null,
            "object_position": null,
            "order": null,
            "overflow": null,
            "overflow_x": null,
            "overflow_y": null,
            "padding": null,
            "right": null,
            "top": null,
            "visibility": null,
            "width": null
          }
        },
        "3b1d89892d0d48a48b43685ca75f5c3e": {
          "model_module": "@jupyter-widgets/controls",
          "model_name": "DescriptionStyleModel",
          "model_module_version": "1.5.0",
          "state": {
            "_model_module": "@jupyter-widgets/controls",
            "_model_module_version": "1.5.0",
            "_model_name": "DescriptionStyleModel",
            "_view_count": null,
            "_view_module": "@jupyter-widgets/base",
            "_view_module_version": "1.2.0",
            "_view_name": "StyleView",
            "description_width": ""
          }
        }
      }
    },
    "gpuClass": "standard"
  },
  "cells": [
    {
      "cell_type": "markdown",
      "source": [
        "# Instalando Dependências"
      ],
      "metadata": {
        "id": "GiWXf4bUWHUa"
      }
    },
    {
      "cell_type": "code",
      "execution_count": null,
      "metadata": {
        "colab": {
          "base_uri": "https://localhost:8080/"
        },
        "id": "Z80yUXf4Ud72",
        "outputId": "9e5f7630-e4a7-4044-90aa-542ad1ee9313"
      },
      "outputs": [
        {
          "output_type": "stream",
          "name": "stdout",
          "text": [
            "Looking in indexes: https://pypi.org/simple, https://us-python.pkg.dev/colab-wheels/public/simple/\n",
            "Requirement already satisfied: transformers in /usr/local/lib/python3.7/dist-packages (4.20.0)\n",
            "Requirement already satisfied: filelock in /usr/local/lib/python3.7/dist-packages (from transformers) (3.7.1)\n",
            "Requirement already satisfied: packaging>=20.0 in /usr/local/lib/python3.7/dist-packages (from transformers) (21.3)\n",
            "Requirement already satisfied: numpy>=1.17 in /usr/local/lib/python3.7/dist-packages (from transformers) (1.21.6)\n",
            "Requirement already satisfied: tqdm>=4.27 in /usr/local/lib/python3.7/dist-packages (from transformers) (4.64.0)\n",
            "Requirement already satisfied: requests in /usr/local/lib/python3.7/dist-packages (from transformers) (2.23.0)\n",
            "Requirement already satisfied: huggingface-hub<1.0,>=0.1.0 in /usr/local/lib/python3.7/dist-packages (from transformers) (0.7.0)\n",
            "Requirement already satisfied: tokenizers!=0.11.3,<0.13,>=0.11.1 in /usr/local/lib/python3.7/dist-packages (from transformers) (0.12.1)\n",
            "Requirement already satisfied: regex!=2019.12.17 in /usr/local/lib/python3.7/dist-packages (from transformers) (2022.6.2)\n",
            "Requirement already satisfied: importlib-metadata in /usr/local/lib/python3.7/dist-packages (from transformers) (4.11.4)\n",
            "Requirement already satisfied: pyyaml>=5.1 in /usr/local/lib/python3.7/dist-packages (from transformers) (5.4.1)\n",
            "Requirement already satisfied: typing-extensions>=3.7.4.3 in /usr/local/lib/python3.7/dist-packages (from huggingface-hub<1.0,>=0.1.0->transformers) (4.1.1)\n",
            "Requirement already satisfied: pyparsing!=3.0.5,>=2.0.2 in /usr/local/lib/python3.7/dist-packages (from packaging>=20.0->transformers) (3.0.9)\n",
            "Requirement already satisfied: zipp>=0.5 in /usr/local/lib/python3.7/dist-packages (from importlib-metadata->transformers) (3.8.0)\n",
            "Requirement already satisfied: chardet<4,>=3.0.2 in /usr/local/lib/python3.7/dist-packages (from requests->transformers) (3.0.4)\n",
            "Requirement already satisfied: idna<3,>=2.5 in /usr/local/lib/python3.7/dist-packages (from requests->transformers) (2.10)\n",
            "Requirement already satisfied: urllib3!=1.25.0,!=1.25.1,<1.26,>=1.21.1 in /usr/local/lib/python3.7/dist-packages (from requests->transformers) (1.24.3)\n",
            "Requirement already satisfied: certifi>=2017.4.17 in /usr/local/lib/python3.7/dist-packages (from requests->transformers) (2022.6.15)\n",
            "Looking in indexes: https://pypi.org/simple, https://us-python.pkg.dev/colab-wheels/public/simple/\n",
            "Requirement already satisfied: sentencepiece in /usr/local/lib/python3.7/dist-packages (0.1.96)\n",
            "Looking in indexes: https://pypi.org/simple, https://us-python.pkg.dev/colab-wheels/public/simple/\n",
            "Requirement already satisfied: bertopic in /usr/local/lib/python3.7/dist-packages (0.10.0)\n",
            "Requirement already satisfied: hdbscan>=0.8.28 in /usr/local/lib/python3.7/dist-packages (from bertopic) (0.8.28)\n",
            "Requirement already satisfied: tqdm>=4.41.1 in /usr/local/lib/python3.7/dist-packages (from bertopic) (4.64.0)\n",
            "Requirement already satisfied: plotly>=4.7.0 in /usr/local/lib/python3.7/dist-packages (from bertopic) (5.5.0)\n",
            "Requirement already satisfied: sentence-transformers>=0.4.1 in /usr/local/lib/python3.7/dist-packages (from bertopic) (2.2.0)\n",
            "Requirement already satisfied: pandas>=1.1.5 in /usr/local/lib/python3.7/dist-packages (from bertopic) (1.3.5)\n",
            "Requirement already satisfied: pyyaml<6.0 in /usr/local/lib/python3.7/dist-packages (from bertopic) (5.4.1)\n",
            "Requirement already satisfied: numpy>=1.20.0 in /usr/local/lib/python3.7/dist-packages (from bertopic) (1.21.6)\n",
            "Requirement already satisfied: umap-learn>=0.5.0 in /usr/local/lib/python3.7/dist-packages (from bertopic) (0.5.3)\n",
            "Requirement already satisfied: scikit-learn>=0.22.2.post1 in /usr/local/lib/python3.7/dist-packages (from bertopic) (1.0.2)\n",
            "Requirement already satisfied: joblib>=1.0 in /usr/local/lib/python3.7/dist-packages (from hdbscan>=0.8.28->bertopic) (1.1.0)\n",
            "Requirement already satisfied: scipy>=1.0 in /usr/local/lib/python3.7/dist-packages (from hdbscan>=0.8.28->bertopic) (1.4.1)\n",
            "Requirement already satisfied: cython>=0.27 in /usr/local/lib/python3.7/dist-packages (from hdbscan>=0.8.28->bertopic) (0.29.30)\n",
            "Requirement already satisfied: pytz>=2017.3 in /usr/local/lib/python3.7/dist-packages (from pandas>=1.1.5->bertopic) (2022.1)\n",
            "Requirement already satisfied: python-dateutil>=2.7.3 in /usr/local/lib/python3.7/dist-packages (from pandas>=1.1.5->bertopic) (2.8.2)\n",
            "Requirement already satisfied: six in /usr/local/lib/python3.7/dist-packages (from plotly>=4.7.0->bertopic) (1.15.0)\n",
            "Requirement already satisfied: tenacity>=6.2.0 in /usr/local/lib/python3.7/dist-packages (from plotly>=4.7.0->bertopic) (8.0.1)\n",
            "Requirement already satisfied: threadpoolctl>=2.0.0 in /usr/local/lib/python3.7/dist-packages (from scikit-learn>=0.22.2.post1->bertopic) (3.1.0)\n",
            "Requirement already satisfied: nltk in /usr/local/lib/python3.7/dist-packages (from sentence-transformers>=0.4.1->bertopic) (3.7)\n",
            "Requirement already satisfied: sentencepiece in /usr/local/lib/python3.7/dist-packages (from sentence-transformers>=0.4.1->bertopic) (0.1.96)\n",
            "Requirement already satisfied: huggingface-hub in /usr/local/lib/python3.7/dist-packages (from sentence-transformers>=0.4.1->bertopic) (0.7.0)\n",
            "Requirement already satisfied: transformers<5.0.0,>=4.6.0 in /usr/local/lib/python3.7/dist-packages (from sentence-transformers>=0.4.1->bertopic) (4.20.0)\n",
            "Requirement already satisfied: torchvision in /usr/local/lib/python3.7/dist-packages (from sentence-transformers>=0.4.1->bertopic) (0.12.0+cu113)\n",
            "Requirement already satisfied: torch>=1.6.0 in /usr/local/lib/python3.7/dist-packages (from sentence-transformers>=0.4.1->bertopic) (1.11.0+cu113)\n",
            "Requirement already satisfied: typing-extensions in /usr/local/lib/python3.7/dist-packages (from torch>=1.6.0->sentence-transformers>=0.4.1->bertopic) (4.1.1)\n",
            "Requirement already satisfied: regex!=2019.12.17 in /usr/local/lib/python3.7/dist-packages (from transformers<5.0.0,>=4.6.0->sentence-transformers>=0.4.1->bertopic) (2022.6.2)\n",
            "Requirement already satisfied: importlib-metadata in /usr/local/lib/python3.7/dist-packages (from transformers<5.0.0,>=4.6.0->sentence-transformers>=0.4.1->bertopic) (4.11.4)\n",
            "Requirement already satisfied: tokenizers!=0.11.3,<0.13,>=0.11.1 in /usr/local/lib/python3.7/dist-packages (from transformers<5.0.0,>=4.6.0->sentence-transformers>=0.4.1->bertopic) (0.12.1)\n",
            "Requirement already satisfied: requests in /usr/local/lib/python3.7/dist-packages (from transformers<5.0.0,>=4.6.0->sentence-transformers>=0.4.1->bertopic) (2.23.0)\n",
            "Requirement already satisfied: filelock in /usr/local/lib/python3.7/dist-packages (from transformers<5.0.0,>=4.6.0->sentence-transformers>=0.4.1->bertopic) (3.7.1)\n",
            "Requirement already satisfied: packaging>=20.0 in /usr/local/lib/python3.7/dist-packages (from transformers<5.0.0,>=4.6.0->sentence-transformers>=0.4.1->bertopic) (21.3)\n",
            "Requirement already satisfied: pyparsing!=3.0.5,>=2.0.2 in /usr/local/lib/python3.7/dist-packages (from packaging>=20.0->transformers<5.0.0,>=4.6.0->sentence-transformers>=0.4.1->bertopic) (3.0.9)\n",
            "Requirement already satisfied: pynndescent>=0.5 in /usr/local/lib/python3.7/dist-packages (from umap-learn>=0.5.0->bertopic) (0.5.7)\n",
            "Requirement already satisfied: numba>=0.49 in /usr/local/lib/python3.7/dist-packages (from umap-learn>=0.5.0->bertopic) (0.51.2)\n",
            "Requirement already satisfied: llvmlite<0.35,>=0.34.0.dev0 in /usr/local/lib/python3.7/dist-packages (from numba>=0.49->umap-learn>=0.5.0->bertopic) (0.34.0)\n",
            "Requirement already satisfied: setuptools in /usr/local/lib/python3.7/dist-packages (from numba>=0.49->umap-learn>=0.5.0->bertopic) (57.4.0)\n",
            "Requirement already satisfied: zipp>=0.5 in /usr/local/lib/python3.7/dist-packages (from importlib-metadata->transformers<5.0.0,>=4.6.0->sentence-transformers>=0.4.1->bertopic) (3.8.0)\n",
            "Requirement already satisfied: click in /usr/local/lib/python3.7/dist-packages (from nltk->sentence-transformers>=0.4.1->bertopic) (7.1.2)\n",
            "Requirement already satisfied: idna<3,>=2.5 in /usr/local/lib/python3.7/dist-packages (from requests->transformers<5.0.0,>=4.6.0->sentence-transformers>=0.4.1->bertopic) (2.10)\n",
            "Requirement already satisfied: urllib3!=1.25.0,!=1.25.1,<1.26,>=1.21.1 in /usr/local/lib/python3.7/dist-packages (from requests->transformers<5.0.0,>=4.6.0->sentence-transformers>=0.4.1->bertopic) (1.24.3)\n",
            "Requirement already satisfied: certifi>=2017.4.17 in /usr/local/lib/python3.7/dist-packages (from requests->transformers<5.0.0,>=4.6.0->sentence-transformers>=0.4.1->bertopic) (2022.6.15)\n",
            "Requirement already satisfied: chardet<4,>=3.0.2 in /usr/local/lib/python3.7/dist-packages (from requests->transformers<5.0.0,>=4.6.0->sentence-transformers>=0.4.1->bertopic) (3.0.4)\n",
            "Requirement already satisfied: pillow!=8.3.*,>=5.3.0 in /usr/local/lib/python3.7/dist-packages (from torchvision->sentence-transformers>=0.4.1->bertopic) (7.1.2)\n"
          ]
        }
      ],
      "source": [
        "!pip install transformers\n",
        "!pip install sentencepiece\n",
        "!pip install bertopic"
      ]
    },
    {
      "cell_type": "markdown",
      "source": [
        "# Carregando dados"
      ],
      "metadata": {
        "id": "jkpDjZ1eWK6H"
      }
    },
    {
      "cell_type": "code",
      "source": [
        "import pandas as pd\n",
        "from tqdm.notebook import tqdm\n",
        "tqdm.pandas()\n",
        "\n",
        "df = pd.read_excel(\"/content/drive/MyDrive/Iniciação Científica/IC 2022/Data/just_brute_financial_texts.xlsx\")\n",
        "df = df.loc[~pd.isnull(df[\"theme_brute\"])]\n",
        "df.drop(\"Unnamed: 0\", axis=1, inplace=True)\n",
        "df.head()"
      ],
      "metadata": {
        "id": "RQ-Ku4XCWKbT",
        "colab": {
          "base_uri": "https://localhost:8080/",
          "height": 337
        },
        "outputId": "249b4e65-de13-482d-88e6-8f57a3ca3caf"
      },
      "execution_count": null,
      "outputs": [
        {
          "output_type": "execute_result",
          "data": {
            "text/plain": [
              "                        date  \\\n",
              "0  2011-12-06 00:47:32+00:00   \n",
              "1  2012-03-06 16:07:43+00:00   \n",
              "2  2018-01-03 17:00:00+00:00   \n",
              "3  2012-09-25 03:00:08+00:00   \n",
              "4  2011-08-23 05:32:42+00:00   \n",
              "\n",
              "                                                 url  \\\n",
              "0  https://valor.globo.com/noticia/2011/12/06/rai...   \n",
              "1  https://valor.globo.com/noticia/2012/03/06/rio...   \n",
              "2  https://exame.com/negocios/6-empresas-de-fast-...   \n",
              "3  https://valor.globo.com/empresas/noticia/2012/...   \n",
              "4  https://valor.globo.com/noticia/2011/08/23/imp...   \n",
              "\n",
              "                                               texts  is_title  \\\n",
              "0  Raia Drogasil substitui conselho fiscal por co...      True   \n",
              "1  NAIRÓBI - A Rio+20, a conferência das Nações U...     False   \n",
              "2  O foco da holding Infinity Services, dona da H...     False   \n",
              "3  Em 1982, o Brasil enfrentava uma das crises fi...     False   \n",
              "4  Com um aumento de 39% nas compras feitas no ex...     False   \n",
              "\n",
              "        theme_brute  old_index  \n",
              "0             Saúde          0  \n",
              "1        Financeiro          9  \n",
              "2        Financeiro         11  \n",
              "3        Financeiro         12  \n",
              "4  Bens Industriais         13  "
            ],
            "text/html": [
              "\n",
              "  <div id=\"df-69dcdd8b-98a3-4fef-893f-ad9ba723c5a4\">\n",
              "    <div class=\"colab-df-container\">\n",
              "      <div>\n",
              "<style scoped>\n",
              "    .dataframe tbody tr th:only-of-type {\n",
              "        vertical-align: middle;\n",
              "    }\n",
              "\n",
              "    .dataframe tbody tr th {\n",
              "        vertical-align: top;\n",
              "    }\n",
              "\n",
              "    .dataframe thead th {\n",
              "        text-align: right;\n",
              "    }\n",
              "</style>\n",
              "<table border=\"1\" class=\"dataframe\">\n",
              "  <thead>\n",
              "    <tr style=\"text-align: right;\">\n",
              "      <th></th>\n",
              "      <th>date</th>\n",
              "      <th>url</th>\n",
              "      <th>texts</th>\n",
              "      <th>is_title</th>\n",
              "      <th>theme_brute</th>\n",
              "      <th>old_index</th>\n",
              "    </tr>\n",
              "  </thead>\n",
              "  <tbody>\n",
              "    <tr>\n",
              "      <th>0</th>\n",
              "      <td>2011-12-06 00:47:32+00:00</td>\n",
              "      <td>https://valor.globo.com/noticia/2011/12/06/rai...</td>\n",
              "      <td>Raia Drogasil substitui conselho fiscal por co...</td>\n",
              "      <td>True</td>\n",
              "      <td>Saúde</td>\n",
              "      <td>0</td>\n",
              "    </tr>\n",
              "    <tr>\n",
              "      <th>1</th>\n",
              "      <td>2012-03-06 16:07:43+00:00</td>\n",
              "      <td>https://valor.globo.com/noticia/2012/03/06/rio...</td>\n",
              "      <td>NAIRÓBI - A Rio+20, a conferência das Nações U...</td>\n",
              "      <td>False</td>\n",
              "      <td>Financeiro</td>\n",
              "      <td>9</td>\n",
              "    </tr>\n",
              "    <tr>\n",
              "      <th>2</th>\n",
              "      <td>2018-01-03 17:00:00+00:00</td>\n",
              "      <td>https://exame.com/negocios/6-empresas-de-fast-...</td>\n",
              "      <td>O foco da holding Infinity Services, dona da H...</td>\n",
              "      <td>False</td>\n",
              "      <td>Financeiro</td>\n",
              "      <td>11</td>\n",
              "    </tr>\n",
              "    <tr>\n",
              "      <th>3</th>\n",
              "      <td>2012-09-25 03:00:08+00:00</td>\n",
              "      <td>https://valor.globo.com/empresas/noticia/2012/...</td>\n",
              "      <td>Em 1982, o Brasil enfrentava uma das crises fi...</td>\n",
              "      <td>False</td>\n",
              "      <td>Financeiro</td>\n",
              "      <td>12</td>\n",
              "    </tr>\n",
              "    <tr>\n",
              "      <th>4</th>\n",
              "      <td>2011-08-23 05:32:42+00:00</td>\n",
              "      <td>https://valor.globo.com/noticia/2011/08/23/imp...</td>\n",
              "      <td>Com um aumento de 39% nas compras feitas no ex...</td>\n",
              "      <td>False</td>\n",
              "      <td>Bens Industriais</td>\n",
              "      <td>13</td>\n",
              "    </tr>\n",
              "  </tbody>\n",
              "</table>\n",
              "</div>\n",
              "      <button class=\"colab-df-convert\" onclick=\"convertToInteractive('df-69dcdd8b-98a3-4fef-893f-ad9ba723c5a4')\"\n",
              "              title=\"Convert this dataframe to an interactive table.\"\n",
              "              style=\"display:none;\">\n",
              "        \n",
              "  <svg xmlns=\"http://www.w3.org/2000/svg\" height=\"24px\"viewBox=\"0 0 24 24\"\n",
              "       width=\"24px\">\n",
              "    <path d=\"M0 0h24v24H0V0z\" fill=\"none\"/>\n",
              "    <path d=\"M18.56 5.44l.94 2.06.94-2.06 2.06-.94-2.06-.94-.94-2.06-.94 2.06-2.06.94zm-11 1L8.5 8.5l.94-2.06 2.06-.94-2.06-.94L8.5 2.5l-.94 2.06-2.06.94zm10 10l.94 2.06.94-2.06 2.06-.94-2.06-.94-.94-2.06-.94 2.06-2.06.94z\"/><path d=\"M17.41 7.96l-1.37-1.37c-.4-.4-.92-.59-1.43-.59-.52 0-1.04.2-1.43.59L10.3 9.45l-7.72 7.72c-.78.78-.78 2.05 0 2.83L4 21.41c.39.39.9.59 1.41.59.51 0 1.02-.2 1.41-.59l7.78-7.78 2.81-2.81c.8-.78.8-2.07 0-2.86zM5.41 20L4 18.59l7.72-7.72 1.47 1.35L5.41 20z\"/>\n",
              "  </svg>\n",
              "      </button>\n",
              "      \n",
              "  <style>\n",
              "    .colab-df-container {\n",
              "      display:flex;\n",
              "      flex-wrap:wrap;\n",
              "      gap: 12px;\n",
              "    }\n",
              "\n",
              "    .colab-df-convert {\n",
              "      background-color: #E8F0FE;\n",
              "      border: none;\n",
              "      border-radius: 50%;\n",
              "      cursor: pointer;\n",
              "      display: none;\n",
              "      fill: #1967D2;\n",
              "      height: 32px;\n",
              "      padding: 0 0 0 0;\n",
              "      width: 32px;\n",
              "    }\n",
              "\n",
              "    .colab-df-convert:hover {\n",
              "      background-color: #E2EBFA;\n",
              "      box-shadow: 0px 1px 2px rgba(60, 64, 67, 0.3), 0px 1px 3px 1px rgba(60, 64, 67, 0.15);\n",
              "      fill: #174EA6;\n",
              "    }\n",
              "\n",
              "    [theme=dark] .colab-df-convert {\n",
              "      background-color: #3B4455;\n",
              "      fill: #D2E3FC;\n",
              "    }\n",
              "\n",
              "    [theme=dark] .colab-df-convert:hover {\n",
              "      background-color: #434B5C;\n",
              "      box-shadow: 0px 1px 3px 1px rgba(0, 0, 0, 0.15);\n",
              "      filter: drop-shadow(0px 1px 2px rgba(0, 0, 0, 0.3));\n",
              "      fill: #FFFFFF;\n",
              "    }\n",
              "  </style>\n",
              "\n",
              "      <script>\n",
              "        const buttonEl =\n",
              "          document.querySelector('#df-69dcdd8b-98a3-4fef-893f-ad9ba723c5a4 button.colab-df-convert');\n",
              "        buttonEl.style.display =\n",
              "          google.colab.kernel.accessAllowed ? 'block' : 'none';\n",
              "\n",
              "        async function convertToInteractive(key) {\n",
              "          const element = document.querySelector('#df-69dcdd8b-98a3-4fef-893f-ad9ba723c5a4');\n",
              "          const dataTable =\n",
              "            await google.colab.kernel.invokeFunction('convertToInteractive',\n",
              "                                                     [key], {});\n",
              "          if (!dataTable) return;\n",
              "\n",
              "          const docLinkHtml = 'Like what you see? Visit the ' +\n",
              "            '<a target=\"_blank\" href=https://colab.research.google.com/notebooks/data_table.ipynb>data table notebook</a>'\n",
              "            + ' to learn more about interactive tables.';\n",
              "          element.innerHTML = '';\n",
              "          dataTable['output_type'] = 'display_data';\n",
              "          await google.colab.output.renderOutput(dataTable, element);\n",
              "          const docLink = document.createElement('div');\n",
              "          docLink.innerHTML = docLinkHtml;\n",
              "          element.appendChild(docLink);\n",
              "        }\n",
              "      </script>\n",
              "    </div>\n",
              "  </div>\n",
              "  "
            ]
          },
          "metadata": {},
          "execution_count": 2
        }
      ]
    },
    {
      "cell_type": "markdown",
      "source": [
        "# BERTopic"
      ],
      "metadata": {
        "id": "_PFDdVq9nnT_"
      }
    },
    {
      "cell_type": "code",
      "source": [
        "from bertopic import BERTopic\n",
        "\n",
        "topic_model = BERTopic(language=\"portuguese\", nr_topics=\"auto\", n_gram_range=(2, 3),\n",
        "                       calculate_probabilities=True, verbose=True,\n",
        "                       min_topic_size=20, top_n_words=10, low_memory=True)"
      ],
      "metadata": {
        "id": "hdDn0bCmVMwC"
      },
      "execution_count": null,
      "outputs": []
    },
    {
      "cell_type": "code",
      "source": [
        "def topic_probs_to_df(model,probabilities):\n",
        "  number_of_topics = pd.DataFrame(model.get_topic_info().Topic[1:])\n",
        "  return pd.DataFrame(probabilities,columns=number_of_topics[\"Topic\"])\n",
        "\n",
        "def get_all_topic_words(model, nth_topic):\n",
        "  a = model.get_topic(nth_topic) #list\n",
        "  return \", \".join([i[0] for i in a])   #turns list to text concatenated, with commas in between\n",
        "\n",
        "def fit_docs_to_model(model, docs):\n",
        "  topics, probabilities = model.fit_transform(docs)\n",
        "  return topic_probs_to_df(model, probabilities)\n",
        "\n",
        "def topic_info_to_df(model):\n",
        "  topic_words_list = []\n",
        "  df_topics = model.get_topic_info()[1:]\n",
        "  for number in range(len(df_topics)):\n",
        "    topic_words_list.append(get_all_topic_words(model, number))\n",
        "  df_topics[\"words\"] = topic_words_list\n",
        "  return df_topics"
      ],
      "metadata": {
        "id": "4UajSiT8lx7u"
      },
      "execution_count": null,
      "outputs": []
    },
    {
      "cell_type": "code",
      "source": [
        "documents = df[\"texts\"].tolist()\n",
        "result_df = fit_docs_to_model(topic_model, documents)\n",
        "topic_info_df = topic_info_to_df(topic_model)\n",
        "normalized_results = result_df.div(result_df.sum(axis=1), axis=0)\n",
        "reindexed_bert_results = normalized_results.rename(columns={-1: 0})"
      ],
      "metadata": {
        "colab": {
          "base_uri": "https://localhost:8080/",
          "height": 138,
          "referenced_widgets": [
            "3ea42f4c0a5b45eead0eb0bf2047cd81",
            "60019e25c77e4eb8a83f570126882eea",
            "25c30df40acf4c829651f26f6a0dfaf7",
            "8588cf84ae7d409587fa0c84176524aa",
            "55c35795b41c448582df3e8ab37533cf",
            "50ff7de6b39449cc8cdd3465c972e31d",
            "058266a182394d4ba8b13108ace8be5e",
            "5717f8419dca45f082c3b3c888897f7d",
            "4063f77d96344dfba86111eaf79cb04d",
            "4633f4e701bd42b091fd546ce572efa1",
            "3b1d89892d0d48a48b43685ca75f5c3e"
          ]
        },
        "id": "RwtOLJYT-Ws0",
        "outputId": "50bf512c-d185-4a3f-c088-157fa222a95e"
      },
      "execution_count": null,
      "outputs": [
        {
          "data": {
            "application/vnd.jupyter.widget-view+json": {
              "model_id": "3ea42f4c0a5b45eead0eb0bf2047cd81",
              "version_major": 2,
              "version_minor": 0
            },
            "text/plain": [
              "Batches:   0%|          | 0/9227 [00:00<?, ?it/s]"
            ]
          },
          "metadata": {},
          "output_type": "display_data"
        },
        {
          "metadata": {
            "tags": null
          },
          "name": "stderr",
          "output_type": "stream",
          "text": [
            "2022-06-19 19:35:31,178 - BERTopic - Transformed documents to Embeddings\n",
            "/usr/local/lib/python3.7/dist-packages/numba/np/ufunc/parallel.py:363: NumbaWarning: The TBB threading layer requires TBB version 2019.5 or later i.e., TBB_INTERFACE_VERSION >= 11005. Found TBB_INTERFACE_VERSION = 9107. The TBB threading layer is disabled.\n",
            "  warnings.warn(problem)\n",
            "2022-06-19 19:53:18,084 - BERTopic - Reduced dimensionality\n"
          ]
        }
      ]
    },
    {
      "cell_type": "markdown",
      "source": [
        "# Zero-Shot"
      ],
      "metadata": {
        "id": "EKr8F2n-nph4"
      }
    },
    {
      "cell_type": "code",
      "source": [
        "labels = [\n",
        "          [\"Positivo\", \"Indiferente\", \"Negativo\"],\n",
        "          [\"Positivo\", \"Indiferente\", \"Pessimista\"],\n",
        "          [\"Positivo\", \"Indiferente\", \"Ruim\"],\n",
        "          [\"Otimista\", \"Indiferente\", \"Negativo\"],\n",
        "          [\"Otimista\", \"Indiferente\", \"Pessimista\"],\n",
        "          [\"Otimista\", \"Indiferente\", \"Ruim\"],\n",
        "          [\"Ótimo\"   , \"Indiferente\", \"Negativo\"],\n",
        "          [\"Ótimo\"   , \"Indiferente\", \"Pessimista\"],\n",
        "          [\"Ótimo\"   , \"Indiferente\", \"Ruim\"],\n",
        "          [\"Positivo\", \"Neutro\",      \"Negativo\"],\n",
        "          [\"Positivo\", \"Neutro\",      \"Pessimista\"],\n",
        "          [\"Positivo\", \"Neutro\",      \"Ruim\"],\n",
        "          [\"Otimista\", \"Neutro\",      \"Negativo\"],\n",
        "          [\"Otimista\", \"Neutro\",      \"Pessimista\"],\n",
        "          [\"Otimista\", \"Neutro\",      \"Ruim\"],\n",
        "          [\"Ótimo\"   , \"Neutro\",      \"Negativo\"],\n",
        "          [\"Ótimo\"   , \"Neutro\",      \"Pessimista\"],\n",
        "          [\"Ótimo\"   , \"Neutro\",      \"Ruim\"],\n",
        "         ]\n",
        "\n",
        "template = \"O sentimento desse conjunto de palavras é {}.\""
      ],
      "metadata": {
        "id": "w95FD6YqcwHu"
      },
      "execution_count": null,
      "outputs": []
    },
    {
      "cell_type": "code",
      "source": [
        "from transformers import pipeline\n",
        "\n",
        "classifier = pipeline(\"zero-shot-classification\",\n",
        "                      model=\"joeddav/xlm-roberta-large-xnli\")"
      ],
      "metadata": {
        "id": "MH8MLf3boYjX"
      },
      "execution_count": null,
      "outputs": []
    },
    {
      "cell_type": "code",
      "source": [
        "def zero_shot_classify(classifier, topics, labels, template):\n",
        "    return topics.progress_apply(lambda word_sequence: classifier(word_sequence,\n",
        "                                                                  candidate_labels=labels,\n",
        "                                                                  hypothesis_template=template,\n",
        "                                                                  multi_label=False))\n",
        "\n",
        "zeroshot_results = []\n",
        "for label in labels:\n",
        "    zeroshot_results.append(zero_shot_classify(classifier, topic_info_df[\"words\"], label, template))"
      ],
      "metadata": {
        "id": "L1-9XK66oaPL"
      },
      "execution_count": null,
      "outputs": []
    },
    {
      "cell_type": "code",
      "source": [
        "def mapper(item_tuple):\n",
        "  index, item = item_tuple\n",
        "  return dict(zip(item[\"labels\"], item[\"scores\"]))\n",
        "\n",
        "topic_to_label_df = []\n",
        "results_df = []\n",
        "speech2theme_df = []\n",
        "\n",
        "for i in tqdm(range(len(labels))):\n",
        "    topic_to_label_df.append(pd.DataFrame(list(map(mapper, enumerate(zeroshot_results[i])))))\n",
        "    speech2theme_df.append(reindexed_bert_results @ topic_to_label_df[i])\n",
        "    results_df.append(pd.DataFrame(speech2theme_df[i].apply(lambda row : row.idxmax(),axis=1)))\n",
        "    df[\"sentiment_{}\".format(str(i))] = results_df[i][0]"
      ],
      "metadata": {
        "id": "FSJIn--PrrDm"
      },
      "execution_count": null,
      "outputs": []
    },
    {
      "cell_type": "code",
      "source": [
        "from collections import Counter\n",
        "\n",
        "def most_frequent(List):\n",
        "    occurence_count = Counter(List)\n",
        "    return occurence_count.most_common(1)[0][0]\n",
        "\n",
        "for i in tqdm(range(len(labels))):\n",
        "    df['sentiment_{}'.format(str(i))] = df['sentiment_{}'.format(str(i))].replace([\"Ótimo\", \"Otimista\"], \"Positivo\")\n",
        "    df['sentiment_{}'.format(str(i))] = df['sentiment_{}'.format(str(i))].replace([\"Ruim\", \"Pessimista\"], \"Negativo\")\n",
        "    df['sentiment_{}'.format(str(i))] = df['sentiment_{}'.format(str(i))].replace(\"Indiferente\", \"Neutro\")\n",
        "\n",
        "true_sentiment = []\n",
        "\n",
        "for i in tqdm(range(len(df))):\n",
        "    sentiments = [\n",
        "                  df[\"sentiment_0\"][i],\n",
        "                  df[\"sentiment_1\"][i],\n",
        "                  df[\"sentiment_2\"][i],\n",
        "                  df[\"sentiment_3\"][i],\n",
        "                  df[\"sentiment_4\"][i],\n",
        "                  df[\"sentiment_5\"][i],\n",
        "                  df[\"sentiment_6\"][i],\n",
        "                  df[\"sentiment_7\"][i],\n",
        "                  df[\"sentiment_8\"][i],\n",
        "                  df[\"sentiment_9\"][i],\n",
        "                  df[\"sentiment_10\"][i],\n",
        "                  df[\"sentiment_11\"][i],\n",
        "                  df[\"sentiment_12\"][i],\n",
        "                  df[\"sentiment_13\"][i],\n",
        "                  df[\"sentiment_14\"][i],\n",
        "                  df[\"sentiment_15\"][i],\n",
        "                  df[\"sentiment_16\"][i],\n",
        "                  df[\"sentiment_17\"][i],\n",
        "    ]\n",
        "    true_sentiment.append(most_frequent(sentiments))\n",
        "\n",
        "df[\"true_sentiment\"] = true_sentiment\n",
        "\n",
        "df.to_excel(\"/content/with_sentiments_financial_texts.xlsx\", index=False)"
      ],
      "metadata": {
        "id": "zSn8Amsqy5Cn"
      },
      "execution_count": null,
      "outputs": []
    },
    {
      "cell_type": "code",
      "source": [
        "df[\"true_sentiment\"].value_counts()"
      ],
      "metadata": {
        "id": "jEw_1h0kAgYO"
      },
      "execution_count": null,
      "outputs": []
    },
    {
      "cell_type": "code",
      "source": [
        "import seaborn as sns\n",
        "sns.set(rc={'figure.figsize':(16, 10)})\n",
        "sns.countplot(df[\"true_sentiment\"])"
      ],
      "metadata": {
        "id": "6e4pGGT-AkEQ"
      },
      "execution_count": null,
      "outputs": []
    },
    {
      "cell_type": "code",
      "source": [
        ""
      ],
      "metadata": {
        "id": "BimsFH6zh8iv"
      },
      "execution_count": null,
      "outputs": []
    }
  ]
}